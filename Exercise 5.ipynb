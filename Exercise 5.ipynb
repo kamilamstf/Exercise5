{
 "cells": [
  {
   "cell_type": "code",
   "execution_count": 3,
   "metadata": {
    "collapsed": false
   },
   "outputs": [
    {
     "name": "stdout",
     "output_type": "stream",
     "text": [
      "[[0, 1, 1, 1], [1, 0, 1, 1], [1, 1, 0, 1], [1, 1, 1, 0]]\n"
     ]
    }
   ],
   "source": [
    "def completegraph(n):\n",
    "    newgraph=[[0 for j in range(n)] for i in range(n)]\n",
    "    for i in range (0, n):\n",
    "        for j in range (0,n):\n",
    "            if i!=j:\n",
    "                newgraph[i][j]=1\n",
    "    print(newgraph)\n",
    "\n",
    "completegraph(4)\n",
    "                \n",
    "    \n",
    "    "
   ]
  },
  {
   "cell_type": "code",
   "execution_count": 5,
   "metadata": {
    "collapsed": false
   },
   "outputs": [
    {
     "name": "stdout",
     "output_type": "stream",
     "text": [
      "[[0, 1, 0, 1, 1], [1, 0, 0, 1, 0], [0, 0, 0, 0, 0], [0, 0, 0, 0, 0], [0, 1, 1, 0, 0]]\n",
      "[[0, 1, 0, 1, 1], [1, 0, 0, 1, 1], [0, 0, 0, 0, 1], [1, 1, 0, 0, 0], [1, 1, 1, 0, 0]]\n"
     ]
    }
   ],
   "source": [
    "import random\n",
    "def randomgraph(n):\n",
    "    newgraph=[[0 for j in range(n)] for i in range(n)]\n",
    "    for i in range (0, n):\n",
    "        for j in range (0,n):\n",
    "            if i!=j:\n",
    "                newgraph[i][j]=random.randint(0,1)\n",
    "    for i in range (0, n): #for the undirected graph - to make the matrix symmetric\n",
    "        for j in range (0,n):\n",
    "            if newgraph[i][j]==1:\n",
    "                newgraph[j][i]=1 \n",
    "    print(newgraph)\n",
    "    \n",
    "randomgraph(5)"
   ]
  },
  {
   "cell_type": "code",
   "execution_count": 29,
   "metadata": {
    "collapsed": false
   },
   "outputs": [
    {
     "name": "stdout",
     "output_type": "stream",
     "text": [
      "[[0, 0, 0], [0, 0, 1], [0, 1, 0]]\n",
      "1\n",
      "1\n",
      "1\n",
      "1\n",
      "Cycle not found\n"
     ]
    }
   ],
   "source": [
    "import random\n",
    "def randomgraph(n):\n",
    "    newgraph=[[0 for j in range(n)] for i in range(n)]\n",
    "    for i in range (0, n):\n",
    "        for j in range (0,n):\n",
    "            if i!=j:\n",
    "                newgraph[i][j]=random.randint(0,1)\n",
    "    for i in range (0, n): #for the undirected graph - to make the matrix symmetric\n",
    "        for j in range (0,n):\n",
    "            if newgraph[i][j]==1:\n",
    "                newgraph[j][i]=1 \n",
    "    return(newgraph)\n",
    "n=3    \n",
    "g = randomgraph(n)\n",
    "print(g)\n",
    "\n",
    "col=[]\n",
    "for i in range (0, n):\n",
    "    col.append(0)\n",
    "def cyclesearch(v,p):\n",
    "    col[v]=1 #assign the current vertice the status of visited: \"1\" means visited\n",
    "    for i in range (0,n):\n",
    "        if g[v][i]>0: #if there is an edge assigned to the vertice then we start looking for a cycle\n",
    "            to=i\n",
    "            if col[to] == 0: #if the vertice has never been visited, we run the cycle again for non-parent neighbours\n",
    "                if to!=p: #we want to exclude parent vertices\n",
    "                    if (cyclesearch(to, v)== True):\n",
    "                        return True\n",
    "            elif col[to] == 1: #is the vertice was visited before, we have found a cycle\n",
    "                if p!=to:\n",
    "                    return True       \n",
    "    col[v] = 2\n",
    "    return False\n",
    "\n",
    "found=False\n",
    "\n",
    "for i in range (0, n):\n",
    "    if (cyclesearch(i,i) == True):\n",
    "        found = True\n",
    "        print(\"Cycle found\")\n",
    "        break\n",
    "\n",
    "if (found == False):\n",
    "    print(\"Cycle not found\")\n",
    "        \n",
    "    \n",
    "    \n",
    "\n",
    "            \n",
    "            \n",
    "\n",
    " \n",
    "    "
   ]
  },
  {
   "cell_type": "code",
   "execution_count": null,
   "metadata": {
    "collapsed": true
   },
   "outputs": [],
   "source": []
  }
 ],
 "metadata": {
  "kernelspec": {
   "display_name": "Python 3",
   "language": "python",
   "name": "python3"
  },
  "language_info": {
   "codemirror_mode": {
    "name": "ipython",
    "version": 3
   },
   "file_extension": ".py",
   "mimetype": "text/x-python",
   "name": "python",
   "nbconvert_exporter": "python",
   "pygments_lexer": "ipython3",
   "version": "3.4.3"
  }
 },
 "nbformat": 4,
 "nbformat_minor": 0
}
