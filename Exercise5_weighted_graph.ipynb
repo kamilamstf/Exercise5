{
 "cells": [
  {
   "cell_type": "code",
   "execution_count": 3,
   "metadata": {
    "collapsed": false
   },
   "outputs": [
    {
     "name": "stdout",
     "output_type": "stream",
     "text": [
      "[[0, 5, 1, 5, 1], [5, 0, 1, 4, 3], [1, 1, 0, 4, 2], [5, 4, 4, 0, 1], [1, 3, 2, 1, 0]]\n"
     ]
    }
   ],
   "source": [
    "import random\n",
    "def randomgraph(n):\n",
    "    newgraph=[[0 for j in range(n)] for i in range(n)]\n",
    "    for i in range (0, n):\n",
    "        for j in range (0,n):\n",
    "            if i!=j:\n",
    "                newgraph[i][j]=random.randint(0,n)\n",
    "    for i in range (0, n): #for the undirected graph - to make the matrix symmetric\n",
    "        for j in range (0,n):\n",
    "            if newgraph[i][j]!=0:\n",
    "                newgraph[j][i]=newgraph[i][j] \n",
    "    return(newgraph)\n",
    "n=5\n",
    "g = randomgraph(n)\n",
    "print(g)"
   ]
  },
  {
   "cell_type": "code",
   "execution_count": 26,
   "metadata": {
    "collapsed": false
   },
   "outputs": [
    {
     "data": {
      "text/plain": [
       "False"
      ]
     },
     "execution_count": 26,
     "metadata": {},
     "output_type": "execute_result"
    }
   ],
   "source": [
    "n=5\n",
    "cost = 0\n",
    "g=[[0 for j in range(n)] for i in range(n)] #we start an empty matrix for graph of size n\n",
    "for i in range (0, n):\n",
    "    for j in range (0,n):\n",
    "       g[i][j]= 0\n",
    "    \n",
    "\n",
    "\n",
    "\n",
    "g[0][1] = 5;\n",
    "g[1][0] = 5;\n",
    "g[0][2] = 1;\n",
    "g[2][0] = 1;\n",
    "#newgraph[1][2] = 1;\n",
    "#newgraph[2][1] = 1;\n",
    "g[1][3] = 1;\n",
    "g[3][1] = 1;\n",
    "g[2][4] = 1;\n",
    "g[4][2] = 1;\n",
    "col=[]\n",
    "\n",
    "for i in range (0, n): #create an empty list for \"col\". When col is 1, it means the vertice has been visited. col=0 means the vertice hasn't been visited\n",
    "    col.append(0)\n",
    "\n",
    "def greedysearch(a, b, p, cost): #I had to add \"cost\" as a parameter because I need to use it inside and outside of function, and Python doesn't let me use it without declaration in function \n",
    "    col[a]=1 \n",
    "    min = 1000\n",
    "    to = -1\n",
    "    if a==b:\n",
    "        print(\"path is found\", cost)\n",
    "    for i in range (0,n):\n",
    "        if g[a][i]>0:\n",
    "            if g[a][i] < min:\n",
    "                min = g[a][i]\n",
    "                to = i\n",
    "    if (to != -1):\n",
    "        if col[to] == 0:\n",
    "            if (p != to):\n",
    "                cost += min\n",
    "                if (greedysearch(to, b, p, cost)== True):\n",
    "                    return True\n",
    "        elif col[to] == 1:\n",
    "            if (p != to):\n",
    "                return False\n",
    "    col[a] = 2\n",
    "    return False\n",
    "greedysearch(1, 0, 0, 0)"
   ]
  },
  {
   "cell_type": "code",
   "execution_count": null,
   "metadata": {
    "collapsed": true
   },
   "outputs": [],
   "source": []
  }
 ],
 "metadata": {
  "kernelspec": {
   "display_name": "Python 3",
   "language": "python",
   "name": "python3"
  },
  "language_info": {
   "codemirror_mode": {
    "name": "ipython",
    "version": 3
   },
   "file_extension": ".py",
   "mimetype": "text/x-python",
   "name": "python",
   "nbconvert_exporter": "python",
   "pygments_lexer": "ipython3",
   "version": "3.4.3"
  }
 },
 "nbformat": 4,
 "nbformat_minor": 0
}
