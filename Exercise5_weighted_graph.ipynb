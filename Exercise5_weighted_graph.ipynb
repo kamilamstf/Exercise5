{
 "cells": [
  {
   "cell_type": "code",
   "execution_count": 3,
   "metadata": {
    "collapsed": false
   },
   "outputs": [
    {
     "name": "stdout",
     "output_type": "stream",
     "text": [
      "[[0, 5, 1, 5, 1], [5, 0, 1, 4, 3], [1, 1, 0, 4, 2], [5, 4, 4, 0, 1], [1, 3, 2, 1, 0]]\n"
     ]
    }
   ],
   "source": [
    "import random\n",
    "def randomgraph(n):\n",
    "    newgraph=[[0 for j in range(n)] for i in range(n)]\n",
    "    for i in range (0, n):\n",
    "        for j in range (0,n):\n",
    "            if i!=j:\n",
    "                newgraph[i][j]=random.randint(0,n)\n",
    "    for i in range (0, n): #for the undirected graph - to make the matrix symmetric\n",
    "        for j in range (0,n):\n",
    "            if newgraph[i][j]!=0:\n",
    "                newgraph[j][i]=newgraph[i][j] \n",
    "    return(newgraph)\n",
    "n=5\n",
    "g = randomgraph(n)\n",
    "print(g)"
   ]
  },
  {
   "cell_type": "code",
   "execution_count": null,
   "metadata": {
    "collapsed": true
   },
   "outputs": [],
   "source": []
  }
 ],
 "metadata": {
  "kernelspec": {
   "display_name": "Python 3",
   "language": "python",
   "name": "python3"
  },
  "language_info": {
   "codemirror_mode": {
    "name": "ipython",
    "version": 3
   },
   "file_extension": ".py",
   "mimetype": "text/x-python",
   "name": "python",
   "nbconvert_exporter": "python",
   "pygments_lexer": "ipython3",
   "version": "3.4.3"
  }
 },
 "nbformat": 4,
 "nbformat_minor": 0
}
