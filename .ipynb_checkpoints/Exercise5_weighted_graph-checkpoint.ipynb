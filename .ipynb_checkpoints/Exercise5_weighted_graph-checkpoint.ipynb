{
 "cells": [
  {
   "cell_type": "code",
   "execution_count": 3,
   "metadata": {
    "collapsed": false
   },
   "outputs": [
    {
     "name": "stdout",
     "output_type": "stream",
     "text": [
      "[[0, 5, 1, 5, 1], [5, 0, 1, 4, 3], [1, 1, 0, 4, 2], [5, 4, 4, 0, 1], [1, 3, 2, 1, 0]]\n"
     ]
    }
   ],
   "source": [
    "import random\n",
    "def randomgraph(n):\n",
    "    newgraph=[[0 for j in range(n)] for i in range(n)]\n",
    "    for i in range (0, n):\n",
    "        for j in range (0,n):\n",
    "            if i!=j:\n",
    "                newgraph[i][j]=random.randint(0,n)\n",
    "    for i in range (0, n): #for the undirected graph - to make the matrix symmetric\n",
    "        for j in range (0,n):\n",
    "            if newgraph[i][j]!=0:\n",
    "                newgraph[j][i]=newgraph[i][j] \n",
    "    return(newgraph)\n",
    "n=5\n",
    "g = randomgraph(n)\n",
    "print(g)"
   ]
  },
  {
   "cell_type": "code",
   "execution_count": 21,
   "metadata": {
    "collapsed": false
   },
   "outputs": [
    {
     "ename": "UnboundLocalError",
     "evalue": "local variable 'cost' referenced before assignment",
     "output_type": "error",
     "traceback": [
      "\u001b[1;31m---------------------------------------------------------------------------\u001b[0m",
      "\u001b[1;31mUnboundLocalError\u001b[0m                         Traceback (most recent call last)",
      "\u001b[1;32m<ipython-input-21-b6ed5e42aec6>\u001b[0m in \u001b[0;36m<module>\u001b[1;34m()\u001b[0m\n\u001b[0;32m     46\u001b[0m     \u001b[0mcol\u001b[0m\u001b[1;33m[\u001b[0m\u001b[0ma\u001b[0m\u001b[1;33m]\u001b[0m \u001b[1;33m=\u001b[0m \u001b[1;36m2\u001b[0m\u001b[1;33m\u001b[0m\u001b[0m\n\u001b[0;32m     47\u001b[0m     \u001b[1;32mreturn\u001b[0m \u001b[1;32mFalse\u001b[0m\u001b[1;33m\u001b[0m\u001b[0m\n\u001b[1;32m---> 48\u001b[1;33m \u001b[0mgreedysearch\u001b[0m\u001b[1;33m(\u001b[0m\u001b[1;36m0\u001b[0m\u001b[1;33m,\u001b[0m \u001b[1;36m2\u001b[0m\u001b[1;33m,\u001b[0m \u001b[1;36m0\u001b[0m\u001b[1;33m)\u001b[0m\u001b[1;33m\u001b[0m\u001b[0m\n\u001b[0m",
      "\u001b[1;32m<ipython-input-21-b6ed5e42aec6>\u001b[0m in \u001b[0;36mgreedysearch\u001b[1;34m(a, b, p)\u001b[0m\n\u001b[0;32m     38\u001b[0m         \u001b[1;32mif\u001b[0m \u001b[0mcol\u001b[0m\u001b[1;33m[\u001b[0m\u001b[0mto\u001b[0m\u001b[1;33m]\u001b[0m \u001b[1;33m==\u001b[0m \u001b[1;36m0\u001b[0m\u001b[1;33m:\u001b[0m\u001b[1;33m\u001b[0m\u001b[0m\n\u001b[0;32m     39\u001b[0m             \u001b[1;32mif\u001b[0m \u001b[1;33m(\u001b[0m\u001b[0mp\u001b[0m \u001b[1;33m!=\u001b[0m \u001b[0mto\u001b[0m\u001b[1;33m)\u001b[0m\u001b[1;33m:\u001b[0m\u001b[1;33m\u001b[0m\u001b[0m\n\u001b[1;32m---> 40\u001b[1;33m                 \u001b[0mcost\u001b[0m \u001b[1;33m+=\u001b[0m \u001b[0mmin\u001b[0m\u001b[1;33m\u001b[0m\u001b[0m\n\u001b[0m\u001b[0;32m     41\u001b[0m                 \u001b[1;32mif\u001b[0m \u001b[1;33m(\u001b[0m\u001b[0mgreedysearch\u001b[0m\u001b[1;33m(\u001b[0m\u001b[0mto\u001b[0m\u001b[1;33m,\u001b[0m \u001b[0mb\u001b[0m\u001b[1;33m,\u001b[0m \u001b[0mp\u001b[0m\u001b[1;33m)\u001b[0m\u001b[1;33m==\u001b[0m \u001b[1;32mTrue\u001b[0m\u001b[1;33m)\u001b[0m\u001b[1;33m:\u001b[0m\u001b[1;33m\u001b[0m\u001b[0m\n\u001b[0;32m     42\u001b[0m                     \u001b[1;32mreturn\u001b[0m \u001b[1;32mTrue\u001b[0m\u001b[1;33m\u001b[0m\u001b[0m\n",
      "\u001b[1;31mUnboundLocalError\u001b[0m: local variable 'cost' referenced before assignment"
     ]
    }
   ],
   "source": [
    "n=5\n",
    "cost = 0\n",
    "g=[[0 for j in range(n)] for i in range(n)]\n",
    "for i in range (0, n):\n",
    "    for j in range (0,n):\n",
    "       g[i][j]= 0\n",
    "    \n",
    "\n",
    "\n",
    "\n",
    "g[0][1] = 5;\n",
    "g[1][0] = 5;\n",
    "g[0][2] = 1;\n",
    "g[2][0] = 1;\n",
    "#newgraph[1][2] = 1;\n",
    "#newgraph[2][1] = 1;\n",
    "g[1][3] = 1;\n",
    "g[3][1] = 1;\n",
    "g[2][4] = 1;\n",
    "g[4][2] = 1;\n",
    "col=[]\n",
    "\n",
    "for i in range (0, n):\n",
    "    col.append(0)\n",
    "\n",
    "def greedysearch(a, b, p):\n",
    "    col[a]=1 \n",
    "    min = 1000\n",
    "    to = -1\n",
    "    if a==b:\n",
    "        print(\"path is found\", cost)\n",
    "    for i in range (0,n):\n",
    "        if g[a][i]>0:\n",
    "            if g[a][i] < min:\n",
    "                min = g[a][i]\n",
    "                to = i\n",
    "    if (to != -1):\n",
    "        if col[to] == 0:\n",
    "            if (p != to):\n",
    "                cost += min\n",
    "                if (greedysearch(to, b, p)== True):\n",
    "                    return True\n",
    "        elif col[to] == 1:\n",
    "            if (p != to):\n",
    "                return False\n",
    "    col[a] = 2\n",
    "    return False\n",
    "greedysearch(0, 2, 0)"
   ]
  },
  {
   "cell_type": "code",
   "execution_count": null,
   "metadata": {
    "collapsed": true
   },
   "outputs": [],
   "source": []
  }
 ],
 "metadata": {
  "kernelspec": {
   "display_name": "Python 3",
   "language": "python",
   "name": "python3"
  },
  "language_info": {
   "codemirror_mode": {
    "name": "ipython",
    "version": 3
   },
   "file_extension": ".py",
   "mimetype": "text/x-python",
   "name": "python",
   "nbconvert_exporter": "python",
   "pygments_lexer": "ipython3",
   "version": "3.4.3"
  }
 },
 "nbformat": 4,
 "nbformat_minor": 0
}
