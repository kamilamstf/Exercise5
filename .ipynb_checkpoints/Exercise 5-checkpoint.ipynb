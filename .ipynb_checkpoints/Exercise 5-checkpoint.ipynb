{
 "cells": [
  {
   "cell_type": "code",
   "execution_count": 3,
   "metadata": {
    "collapsed": false
   },
   "outputs": [
    {
     "name": "stdout",
     "output_type": "stream",
     "text": [
      "[[0, 1, 1, 1], [1, 0, 1, 1], [1, 1, 0, 1], [1, 1, 1, 0]]\n"
     ]
    }
   ],
   "source": [
    "def completegraph(n):\n",
    "    newgraph=[[0 for j in range(n)] for i in range(n)]\n",
    "    for i in range (0, n):\n",
    "        for j in range (0,n):\n",
    "            if i!=j:\n",
    "                newgraph[i][j]=1\n",
    "    print(newgraph)\n",
    "\n",
    "completegraph(4)\n",
    "                \n",
    "    \n",
    "    "
   ]
  },
  {
   "cell_type": "code",
   "execution_count": 5,
   "metadata": {
    "collapsed": false
   },
   "outputs": [
    {
     "name": "stdout",
     "output_type": "stream",
     "text": [
      "[[0, 1, 0, 1, 1], [1, 0, 0, 1, 0], [0, 0, 0, 0, 0], [0, 0, 0, 0, 0], [0, 1, 1, 0, 0]]\n",
      "[[0, 1, 0, 1, 1], [1, 0, 0, 1, 1], [0, 0, 0, 0, 1], [1, 1, 0, 0, 0], [1, 1, 1, 0, 0]]\n"
     ]
    }
   ],
   "source": [
    "import random\n",
    "def randomgraph(n):\n",
    "    newgraph=[[0 for j in range(n)] for i in range(n)]\n",
    "    for i in range (0, n):\n",
    "        for j in range (0,n):\n",
    "            if i!=j:\n",
    "                newgraph[i][j]=random.randint(0,1)\n",
    "    for i in range (0, n): #for the undirected graph - to make the matrix symmetric\n",
    "        for j in range (0,n):\n",
    "            if newgraph[i][j]==1:\n",
    "                newgraph[j][i]=1 \n",
    "    print(newgraph)\n",
    "    \n",
    "randomgraph(5)"
   ]
  },
  {
   "cell_type": "code",
   "execution_count": null,
   "metadata": {
    "collapsed": true
   },
   "outputs": [],
   "source": []
  },
  {
   "cell_type": "code",
   "execution_count": null,
   "metadata": {
    "collapsed": true
   },
   "outputs": [],
   "source": []
  }
 ],
 "metadata": {
  "kernelspec": {
   "display_name": "Python 3",
   "language": "python",
   "name": "python3"
  },
  "language_info": {
   "codemirror_mode": {
    "name": "ipython",
    "version": 3
   },
   "file_extension": ".py",
   "mimetype": "text/x-python",
   "name": "python",
   "nbconvert_exporter": "python",
   "pygments_lexer": "ipython3",
   "version": "3.4.3"
  }
 },
 "nbformat": 4,
 "nbformat_minor": 0
}
